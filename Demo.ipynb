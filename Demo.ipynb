{
 "cells": [
  {
   "cell_type": "code",
   "execution_count": 1,
   "metadata": {},
   "outputs": [],
   "source": [
    "%matplotlib inline\n",
    "from pylab import *\n",
    "import cv2\n",
    "import os\n",
    "os.environ[\"CUDA_VISIBLE_DEVICES\"]=\"3\""
   ]
  },
  {
   "cell_type": "code",
   "execution_count": 2,
   "metadata": {},
   "outputs": [],
   "source": [
    "rcParams['figure.figsize'] = 10, 10"
   ]
  },
  {
   "cell_type": "code",
   "execution_count": 3,
   "metadata": {},
   "outputs": [],
   "source": [
    "from dataset import load_image"
   ]
  },
  {
   "cell_type": "code",
   "execution_count": 4,
   "metadata": {},
   "outputs": [],
   "source": [
    "import torch"
   ]
  },
  {
   "cell_type": "code",
   "execution_count": 5,
   "metadata": {},
   "outputs": [],
   "source": [
    "from utils import cuda"
   ]
  },
  {
   "cell_type": "code",
   "execution_count": 6,
   "metadata": {},
   "outputs": [],
   "source": [
    "from generate_masks import get_model"
   ]
  },
  {
   "cell_type": "code",
   "execution_count": 7,
   "metadata": {},
   "outputs": [],
   "source": [
    "from albumentations import Compose, Normalize"
   ]
  },
  {
   "cell_type": "code",
   "execution_count": 8,
   "metadata": {},
   "outputs": [],
   "source": [
    "from albumentations.pytorch.functional import img_to_tensor"
   ]
  },
  {
   "cell_type": "code",
   "execution_count": 9,
   "metadata": {},
   "outputs": [],
   "source": [
    "def img_transform(p=1):\n",
    "    return Compose([\n",
    "        Normalize(p=1)\n",
    "    ], p=p)\n"
   ]
  },
  {
   "cell_type": "code",
   "execution_count": 10,
   "metadata": {},
   "outputs": [],
   "source": [
    "def mask_overlay(image, mask, color=(0, 255, 0)):\n",
    "    \"\"\"\n",
    "    Helper function to visualize mask on the top of the car\n",
    "    \"\"\"\n",
    "    mask = np.dstack((mask, mask, mask)) * np.array(color)\n",
    "    mask = mask.astype(np.uint8)\n",
    "    weighted_sum = cv2.addWeighted(mask, 0.5, image, 0.5, 0.)\n",
    "    img = image.copy()\n",
    "    ind = mask[:, :, 1] > 0    \n",
    "    img[ind] = weighted_sum[ind]    \n",
    "    return img"
   ]
  },
  {
   "cell_type": "code",
   "execution_count": 11,
   "metadata": {},
   "outputs": [
    {
     "ename": "RuntimeError",
     "evalue": "Error(s) in loading state_dict for UNet16:\n\tMissing key(s) in state_dict: \"center.block.1.conv.weight\", \"center.block.1.norm_act.running_var\", \"center.block.1.norm_act.running_mean\", \"center.block.1.norm_act.weight\", \"center.block.1.norm_act.bias\", \"center.block.2.conv.weight\", \"center.block.2.norm_act.running_var\", \"center.block.2.norm_act.running_mean\", \"center.block.2.norm_act.weight\", \"center.block.2.norm_act.bias\", \"dec5.block.1.conv.weight\", \"dec5.block.1.norm_act.running_var\", \"dec5.block.1.norm_act.running_mean\", \"dec5.block.1.norm_act.weight\", \"dec5.block.1.norm_act.bias\", \"dec5.block.2.conv.weight\", \"dec5.block.2.norm_act.running_var\", \"dec5.block.2.norm_act.running_mean\", \"dec5.block.2.norm_act.weight\", \"dec5.block.2.norm_act.bias\", \"dec4.block.1.conv.weight\", \"dec4.block.1.norm_act.running_var\", \"dec4.block.1.norm_act.running_mean\", \"dec4.block.1.norm_act.weight\", \"dec4.block.1.norm_act.bias\", \"dec4.block.2.conv.weight\", \"dec4.block.2.norm_act.running_var\", \"dec4.block.2.norm_act.running_mean\", \"dec4.block.2.norm_act.weight\", \"dec4.block.2.norm_act.bias\", \"dec3.block.1.conv.weight\", \"dec3.block.1.norm_act.running_var\", \"dec3.block.1.norm_act.running_mean\", \"dec3.block.1.norm_act.weight\", \"dec3.block.1.norm_act.bias\", \"dec3.block.2.conv.weight\", \"dec3.block.2.norm_act.running_var\", \"dec3.block.2.norm_act.running_mean\", \"dec3.block.2.norm_act.weight\", \"dec3.block.2.norm_act.bias\", \"dec2.block.1.conv.weight\", \"dec2.block.1.norm_act.running_var\", \"dec2.block.1.norm_act.running_mean\", \"dec2.block.1.norm_act.weight\", \"dec2.block.1.norm_act.bias\", \"dec2.block.2.conv.weight\", \"dec2.block.2.norm_act.running_var\", \"dec2.block.2.norm_act.running_mean\", \"dec2.block.2.norm_act.weight\", \"dec2.block.2.norm_act.bias\". \n\tUnexpected key(s) in state_dict: \"center.block.0.conv.weight\", \"center.block.0.conv.bias\", \"center.block.1.bias\", \"center.block.1.weight\", \"dec5.block.0.conv.weight\", \"dec5.block.0.conv.bias\", \"dec5.block.1.weight\", \"dec5.block.1.bias\", \"dec4.block.0.conv.weight\", \"dec4.block.0.conv.bias\", \"dec4.block.1.bias\", \"dec4.block.1.weight\", \"dec3.block.0.conv.bias\", \"dec3.block.0.conv.weight\", \"dec3.block.1.bias\", \"dec3.block.1.weight\", \"dec2.block.0.conv.bias\", \"dec2.block.0.conv.weight\", \"dec2.block.1.weight\", \"dec2.block.1.bias\". ",
     "output_type": "error",
     "traceback": [
      "\u001b[0;31m---------------------------------------------------------------------------\u001b[0m",
      "\u001b[0;31mRuntimeError\u001b[0m                              Traceback (most recent call last)",
      "\u001b[0;32m<ipython-input-11-7140b4285efc>\u001b[0m in \u001b[0;36m<module>\u001b[0;34m\u001b[0m\n\u001b[1;32m      1\u001b[0m \u001b[0mmodel_path\u001b[0m \u001b[0;34m=\u001b[0m \u001b[0;34m'data/models/unet16_parts_20/model_0.pt'\u001b[0m\u001b[0;34m\u001b[0m\u001b[0m\n\u001b[0;32m----> 2\u001b[0;31m \u001b[0mmodel\u001b[0m \u001b[0;34m=\u001b[0m \u001b[0mget_model\u001b[0m\u001b[0;34m(\u001b[0m\u001b[0mmodel_path\u001b[0m\u001b[0;34m,\u001b[0m \u001b[0mmodel_type\u001b[0m\u001b[0;34m=\u001b[0m\u001b[0;34m'UNet16'\u001b[0m\u001b[0;34m,\u001b[0m \u001b[0mproblem_type\u001b[0m\u001b[0;34m=\u001b[0m\u001b[0;34m'parts'\u001b[0m\u001b[0;34m)\u001b[0m\u001b[0;34m\u001b[0m\u001b[0m\n\u001b[0m",
      "\u001b[0;32m~/robot-surgery-segmentation/generate_masks.py\u001b[0m in \u001b[0;36mget_model\u001b[0;34m(model_path, model_type, problem_type)\u001b[0m\n\u001b[1;32m     58\u001b[0m     \u001b[0mstate\u001b[0m \u001b[0;34m=\u001b[0m \u001b[0mtorch\u001b[0m\u001b[0;34m.\u001b[0m\u001b[0mload\u001b[0m\u001b[0;34m(\u001b[0m\u001b[0mstr\u001b[0m\u001b[0;34m(\u001b[0m\u001b[0mmodel_path\u001b[0m\u001b[0;34m)\u001b[0m\u001b[0;34m)\u001b[0m\u001b[0;34m\u001b[0m\u001b[0m\n\u001b[1;32m     59\u001b[0m     \u001b[0mstate\u001b[0m \u001b[0;34m=\u001b[0m \u001b[0;34m{\u001b[0m\u001b[0mkey\u001b[0m\u001b[0;34m.\u001b[0m\u001b[0mreplace\u001b[0m\u001b[0;34m(\u001b[0m\u001b[0;34m'module.'\u001b[0m\u001b[0;34m,\u001b[0m \u001b[0;34m''\u001b[0m\u001b[0;34m)\u001b[0m\u001b[0;34m:\u001b[0m \u001b[0mvalue\u001b[0m \u001b[0;32mfor\u001b[0m \u001b[0mkey\u001b[0m\u001b[0;34m,\u001b[0m \u001b[0mvalue\u001b[0m \u001b[0;32min\u001b[0m \u001b[0mstate\u001b[0m\u001b[0;34m[\u001b[0m\u001b[0;34m'model'\u001b[0m\u001b[0;34m]\u001b[0m\u001b[0;34m.\u001b[0m\u001b[0mitems\u001b[0m\u001b[0;34m(\u001b[0m\u001b[0;34m)\u001b[0m\u001b[0;34m}\u001b[0m\u001b[0;34m\u001b[0m\u001b[0m\n\u001b[0;32m---> 60\u001b[0;31m     \u001b[0mmodel\u001b[0m\u001b[0;34m.\u001b[0m\u001b[0mload_state_dict\u001b[0m\u001b[0;34m(\u001b[0m\u001b[0mstate\u001b[0m\u001b[0;34m)\u001b[0m\u001b[0;34m\u001b[0m\u001b[0m\n\u001b[0m\u001b[1;32m     61\u001b[0m \u001b[0;34m\u001b[0m\u001b[0m\n\u001b[1;32m     62\u001b[0m     \u001b[0;32mif\u001b[0m \u001b[0mtorch\u001b[0m\u001b[0;34m.\u001b[0m\u001b[0mcuda\u001b[0m\u001b[0;34m.\u001b[0m\u001b[0mis_available\u001b[0m\u001b[0;34m(\u001b[0m\u001b[0;34m)\u001b[0m\u001b[0;34m:\u001b[0m\u001b[0;34m\u001b[0m\u001b[0m\n",
      "\u001b[0;32m~/.local/lib/python3.5/site-packages/torch/nn/modules/module.py\u001b[0m in \u001b[0;36mload_state_dict\u001b[0;34m(self, state_dict, strict)\u001b[0m\n\u001b[1;32m    775\u001b[0m         \u001b[0;32mif\u001b[0m \u001b[0mlen\u001b[0m\u001b[0;34m(\u001b[0m\u001b[0merror_msgs\u001b[0m\u001b[0;34m)\u001b[0m \u001b[0;34m>\u001b[0m \u001b[0;36m0\u001b[0m\u001b[0;34m:\u001b[0m\u001b[0;34m\u001b[0m\u001b[0m\n\u001b[1;32m    776\u001b[0m             raise RuntimeError('Error(s) in loading state_dict for {}:\\n\\t{}'.format(\n\u001b[0;32m--> 777\u001b[0;31m                                self.__class__.__name__, \"\\n\\t\".join(error_msgs)))\n\u001b[0m\u001b[1;32m    778\u001b[0m         \u001b[0;32mreturn\u001b[0m \u001b[0m_IncompatibleKeys\u001b[0m\u001b[0;34m(\u001b[0m\u001b[0mmissing_keys\u001b[0m\u001b[0;34m,\u001b[0m \u001b[0munexpected_keys\u001b[0m\u001b[0;34m)\u001b[0m\u001b[0;34m\u001b[0m\u001b[0m\n\u001b[1;32m    779\u001b[0m \u001b[0;34m\u001b[0m\u001b[0m\n",
      "\u001b[0;31mRuntimeError\u001b[0m: Error(s) in loading state_dict for UNet16:\n\tMissing key(s) in state_dict: \"center.block.1.conv.weight\", \"center.block.1.norm_act.running_var\", \"center.block.1.norm_act.running_mean\", \"center.block.1.norm_act.weight\", \"center.block.1.norm_act.bias\", \"center.block.2.conv.weight\", \"center.block.2.norm_act.running_var\", \"center.block.2.norm_act.running_mean\", \"center.block.2.norm_act.weight\", \"center.block.2.norm_act.bias\", \"dec5.block.1.conv.weight\", \"dec5.block.1.norm_act.running_var\", \"dec5.block.1.norm_act.running_mean\", \"dec5.block.1.norm_act.weight\", \"dec5.block.1.norm_act.bias\", \"dec5.block.2.conv.weight\", \"dec5.block.2.norm_act.running_var\", \"dec5.block.2.norm_act.running_mean\", \"dec5.block.2.norm_act.weight\", \"dec5.block.2.norm_act.bias\", \"dec4.block.1.conv.weight\", \"dec4.block.1.norm_act.running_var\", \"dec4.block.1.norm_act.running_mean\", \"dec4.block.1.norm_act.weight\", \"dec4.block.1.norm_act.bias\", \"dec4.block.2.conv.weight\", \"dec4.block.2.norm_act.running_var\", \"dec4.block.2.norm_act.running_mean\", \"dec4.block.2.norm_act.weight\", \"dec4.block.2.norm_act.bias\", \"dec3.block.1.conv.weight\", \"dec3.block.1.norm_act.running_var\", \"dec3.block.1.norm_act.running_mean\", \"dec3.block.1.norm_act.weight\", \"dec3.block.1.norm_act.bias\", \"dec3.block.2.conv.weight\", \"dec3.block.2.norm_act.running_var\", \"dec3.block.2.norm_act.running_mean\", \"dec3.block.2.norm_act.weight\", \"dec3.block.2.norm_act.bias\", \"dec2.block.1.conv.weight\", \"dec2.block.1.norm_act.running_var\", \"dec2.block.1.norm_act.running_mean\", \"dec2.block.1.norm_act.weight\", \"dec2.block.1.norm_act.bias\", \"dec2.block.2.conv.weight\", \"dec2.block.2.norm_act.running_var\", \"dec2.block.2.norm_act.running_mean\", \"dec2.block.2.norm_act.weight\", \"dec2.block.2.norm_act.bias\". \n\tUnexpected key(s) in state_dict: \"center.block.0.conv.weight\", \"center.block.0.conv.bias\", \"center.block.1.bias\", \"center.block.1.weight\", \"dec5.block.0.conv.weight\", \"dec5.block.0.conv.bias\", \"dec5.block.1.weight\", \"dec5.block.1.bias\", \"dec4.block.0.conv.weight\", \"dec4.block.0.conv.bias\", \"dec4.block.1.bias\", \"dec4.block.1.weight\", \"dec3.block.0.conv.bias\", \"dec3.block.0.conv.weight\", \"dec3.block.1.bias\", \"dec3.block.1.weight\", \"dec2.block.0.conv.bias\", \"dec2.block.0.conv.weight\", \"dec2.block.1.weight\", \"dec2.block.1.bias\". "
     ]
    }
   ],
   "source": [
    "model_path = 'data/models/unet16_parts_20/model_0.pt'\n",
    "model = get_model(model_path, model_type='UNet16', problem_type='parts')"
   ]
  },
  {
   "cell_type": "code",
   "execution_count": null,
   "metadata": {},
   "outputs": [],
   "source": [
    "img_file_name = 'data/cropped_train/instrument_dataset_3/images/frame004.jpg'\n",
    "gt_file_name = 'data/cropped_train/instrument_dataset_3/binary_masks/frame004.png'"
   ]
  },
  {
   "cell_type": "code",
   "execution_count": null,
   "metadata": {},
   "outputs": [],
   "source": [
    "image = load_image(img_file_name)\n",
    "gt = cv2.imread(gt_file_name, 0) > 0"
   ]
  },
  {
   "cell_type": "code",
   "execution_count": null,
   "metadata": {},
   "outputs": [],
   "source": [
    "imshow(image)"
   ]
  },
  {
   "cell_type": "code",
   "execution_count": null,
   "metadata": {},
   "outputs": [],
   "source": [
    "with torch.no_grad():\n",
    "    input_image = torch.unsqueeze(img_to_tensor(img_transform(p=1)(image=image)['image']).cuda(), dim=0)"
   ]
  },
  {
   "cell_type": "code",
   "execution_count": null,
   "metadata": {},
   "outputs": [],
   "source": [
    "mask = model(input_image)"
   ]
  },
  {
   "cell_type": "code",
   "execution_count": null,
   "metadata": {},
   "outputs": [],
   "source": [
    "mask_array = mask.data[0].cpu().numpy()[0]"
   ]
  },
  {
   "cell_type": "code",
   "execution_count": null,
   "metadata": {},
   "outputs": [],
   "source": [
    "imshow(mask_array > 0)"
   ]
  },
  {
   "cell_type": "code",
   "execution_count": null,
   "metadata": {},
   "outputs": [],
   "source": [
    "imshow(mask_overlay(image, (mask_array > 0).astype(np.uint8)))"
   ]
  }
 ],
 "metadata": {
  "kernelspec": {
   "display_name": "Python 3",
   "language": "python",
   "name": "python3"
  },
  "language_info": {
   "codemirror_mode": {
    "name": "ipython",
    "version": 3
   },
   "file_extension": ".py",
   "mimetype": "text/x-python",
   "name": "python",
   "nbconvert_exporter": "python",
   "pygments_lexer": "ipython3",
   "version": "3.5.2"
  }
 },
 "nbformat": 4,
 "nbformat_minor": 2
}
